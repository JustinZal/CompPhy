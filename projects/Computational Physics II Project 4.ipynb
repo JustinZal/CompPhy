{
 "cells": [
  {
   "cell_type": "code",
   "execution_count": 17,
   "id": "8526e43f",
   "metadata": {},
   "outputs": [
    {
     "name": "stderr",
     "output_type": "stream",
     "text": [
      "/usr/local/lib/python3.8/dist-packages/numpy/core/_asarray.py:85: ComplexWarning: Casting complex values to real discards the imaginary part\n",
      "  return array(a, dtype, copy=False, order=order)\n"
     ]
    },
    {
     "data": {
      "image/png": "[encoded data removed]",
      "text/plain": [
       "<Figure size 432x288 with 1 Axes>"
      ]
     },
     "metadata": {
      "needs_background": "light"
     },
     "output_type": "display_data"
    }
   ],
   "source": [
    "import numpy as np\n",
    "import matplotlib.pyplot as plt\n",
    "\n",
    "\n",
    "def gaussian(x, mu = 0, sigma = 1.15):\n",
    "    return (1/(np.sqrt(2 * np.pi) * sigma)) * np.exp(- ((x - mu) ** 2) / (2 * np.power(sigma, 2)))\n",
    "\n",
    "\n",
    "def f(x):\n",
    "    return np.power(np.sin(x), 2) * np.exp(-(x-(np.pi/2)**2))\n",
    "\n",
    "\n",
    "def compute_coefficient(points, index, N):\n",
    "    return sum([points[k] * np.exp(-1j * 2 * np.pi * k * index / N) for k in range(len(points))])\n",
    "\n",
    "\n",
    "def DFT(func, start, end, N = 1000):\n",
    "    delta_t = (end - start) / (N - 1)\n",
    "    points = np.arange(start, end, step=delta_t)\n",
    "    sample_points = func(points)\n",
    "    \n",
    "    return np.array([compute_coefficient(sample_points, i, N) for i in range(len(sample_points))])\n",
    "\n",
    "\n",
    "x = np.arange(-5, 5, step=(5 + 5) / (1000 - 1))\n",
    "y = DFT(gaussian, -5, 5)\n",
    "\n",
    "plt.plot(x, y)\n",
    "plt.show()\n"
   ]
  }
 ],
 "metadata": {
  "kernelspec": {
   "display_name": "Python 3",
   "language": "python",
   "name": "python3"
  },
  "language_info": {
   "codemirror_mode": {
    "name": "ipython",
    "version": 3
   },
   "file_extension": ".py",
   "mimetype": "text/x-python",
   "name": "python",
   "nbconvert_exporter": "python",
   "pygments_lexer": "ipython3",
   "version": "3.8.5"
  }
 },
 "nbformat": 4,
 "nbformat_minor": 5
}
